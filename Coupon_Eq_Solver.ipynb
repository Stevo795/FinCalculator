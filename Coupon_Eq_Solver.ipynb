{
 "cells": [
  {
   "cell_type": "code",
   "execution_count": 140,
   "metadata": {
    "id": "Ig0dY79omp6g"
   },
   "outputs": [],
   "source": [
    "def f1():\n",
    "\n",
    "  F=1000 #face value\n",
    "  C=2000 #sympy.symbols('C') #redemption value\n",
    "  r=0.043 #coupon rate\n",
    "  P= sympy.symbols('P') #Purchase value\n",
    "  n= 18   #sympy.symbols('n') #period\n",
    "  j= 0.128/2  #sympy.symbols('J')\n",
    "  return \"Solve (\" + str(C*(1/(1+j))**n + F*r*((1-(1/(1+j))**n)/j) -P) + \")=0\"\n",
    "\n",
    "# C*(1/(1+j))**n + F*r*((1-(1/(1+j))**n)/j) -P"
   ]
  },
  {
   "cell_type": "code",
   "execution_count": 141,
   "metadata": {
    "colab": {
     "base_uri": "https://localhost:8080/",
     "height": 35
    },
    "id": "aRRVjaABDved",
    "outputId": "5fa575ba-e1e7-4878-e2dc-c289e9c34e3d"
   },
   "outputs": [
    {
     "data": {
      "application/vnd.google.colaboratory.intrinsic+json": {
       "type": "string"
      },
      "text/plain": [
       "'Solve (-P + 1106.67511318523)=0'"
      ]
     },
     "execution_count": 141,
     "metadata": {
      "tags": []
     },
     "output_type": "execute_result"
    }
   ],
   "source": [
    "f1()\n",
    "#n = 20.0014"
   ]
  },
  {
   "cell_type": "code",
   "execution_count": 108,
   "metadata": {
    "colab": {
     "base_uri": "https://localhost:8080/"
    },
    "id": "1QqZLTZEGAjW",
    "outputId": "4609a1bf-ece2-4c5b-84a7-45b599e07fc9"
   },
   "outputs": [
    {
     "data": {
      "text/plain": [
       "0.0780992"
      ]
     },
     "execution_count": 108,
     "metadata": {
      "tags": []
     },
     "output_type": "execute_result"
    }
   ],
   "source": [
    "#n16 = 915.617152241743\n",
    "#n18 = 880.716465343845"
   ]
  },
  {
   "cell_type": "code",
   "execution_count": 35,
   "metadata": {
    "id": "7MbDCXhjyUrv"
   },
   "outputs": [],
   "source": [
    "import wolframalpha"
   ]
  },
  {
   "cell_type": "code",
   "execution_count": 36,
   "metadata": {
    "id": "2yB254m4yYQ_"
   },
   "outputs": [],
   "source": [
    "app_id = \"Q68W4E-VHTKJPRAA3\""
   ]
  },
  {
   "cell_type": "code",
   "execution_count": 37,
   "metadata": {
    "id": "C_35vPtNyjVT"
   },
   "outputs": [],
   "source": [
    "client = wolframalpha.Client(app_id)"
   ]
  },
  {
   "cell_type": "code",
   "execution_count": 94,
   "metadata": {
    "id": "IC7MLtmmypZu"
   },
   "outputs": [],
   "source": [
    "res = client.query(f1())"
   ]
  },
  {
   "cell_type": "code",
   "execution_count": 95,
   "metadata": {
    "colab": {
     "base_uri": "https://localhost:8080/",
     "height": 180
    },
    "id": "_U_cIPsd0qfd",
    "outputId": "4864f8bd-aa98-429d-f0ac-137a440c7ba5"
   },
   "outputs": [
    {
     "ename": "KeyError",
     "evalue": "ignored",
     "output_type": "error",
     "traceback": [
      "\u001b[0;31m---------------------------------------------------------------------------\u001b[0m",
      "\u001b[0;31mKeyError\u001b[0m                                  Traceback (most recent call last)",
      "\u001b[0;32m<ipython-input-95-99cae55f79a6>\u001b[0m in \u001b[0;36m<module>\u001b[0;34m()\u001b[0m\n\u001b[1;32m      1\u001b[0m \u001b[0;32mfor\u001b[0m \u001b[0mi\u001b[0m \u001b[0;32min\u001b[0m \u001b[0mrange\u001b[0m\u001b[0;34m(\u001b[0m\u001b[0;36m3\u001b[0m\u001b[0;34m)\u001b[0m\u001b[0;34m:\u001b[0m\u001b[0;34m\u001b[0m\u001b[0;34m\u001b[0m\u001b[0m\n\u001b[0;32m----> 2\u001b[0;31m   \u001b[0mprint\u001b[0m\u001b[0;34m(\u001b[0m\u001b[0mnext\u001b[0m\u001b[0;34m(\u001b[0m\u001b[0mres\u001b[0m\u001b[0;34m.\u001b[0m\u001b[0mresults\u001b[0m\u001b[0;34m)\u001b[0m\u001b[0;34m[\u001b[0m\u001b[0;34m\"subpod\"\u001b[0m\u001b[0;34m]\u001b[0m\u001b[0;34m[\u001b[0m\u001b[0mi\u001b[0m\u001b[0;34m]\u001b[0m\u001b[0;34m[\u001b[0m\u001b[0;34m\"plaintext\"\u001b[0m\u001b[0;34m]\u001b[0m\u001b[0;34m)\u001b[0m\u001b[0;34m\u001b[0m\u001b[0;34m\u001b[0m\u001b[0m\n\u001b[0m",
      "\u001b[0;31mKeyError\u001b[0m: 0"
     ]
    }
   ],
   "source": [
    "for i in range(3):\n",
    "  print(next(res.results)[\"subpod\"][i][\"plaintext\"])\n"
   ]
  }
 ],
 "metadata": {
  "colab": {
   "name": "Coupon Eq Solver.ipynb",
   "provenance": []
  },
  "kernelspec": {
   "display_name": "Python 3",
   "language": "python",
   "name": "python3"
  },
  "language_info": {
   "codemirror_mode": {
    "name": "ipython",
    "version": 3
   },
   "file_extension": ".py",
   "mimetype": "text/x-python",
   "name": "python",
   "nbconvert_exporter": "python",
   "pygments_lexer": "ipython3",
   "version": "3.6.8"
  }
 },
 "nbformat": 4,
 "nbformat_minor": 4
}
