{
 "cells": [
  {
   "cell_type": "code",
   "execution_count": 1,
   "metadata": {
    "colab": {
     "base_uri": "https://localhost:8080/"
    },
    "id": "2o5papSYdrkE",
    "outputId": "68e974b3-79a8-4a29-dcf3-b4f2f339e653"
   },
   "outputs": [
    {
     "name": "stdout",
     "output_type": "stream",
     "text": [
      "13.769472199688268\n"
     ]
    }
   ],
   "source": [
    "#an\n",
    "\n",
    "i=0.069/2\n",
    "n=19\n",
    "\n",
    "v=(1/(1+i))\n",
    "\n",
    "res=(1-v**n)/i\n",
    "\n",
    "print(res)\n"
   ]
  },
  {
   "cell_type": "code",
   "execution_count": null,
   "metadata": {
    "colab": {
     "base_uri": "https://localhost:8080/"
    },
    "id": "qKiZjsVid9cV",
    "outputId": "bf3971b6-a80f-4c40-c43f-7002274070e3"
   },
   "outputs": [
    {
     "name": "stdout",
     "output_type": "stream",
     "text": [
      "17.068248502772995\n"
     ]
    }
   ],
   "source": [
    "#sn\n",
    "\n",
    "i=0.062\n",
    "n=12\n",
    "\n",
    "t1=(1+i)**n\n",
    "res=(t1-1)/i\n",
    "\n",
    "print(res)"
   ]
  },
  {
   "cell_type": "code",
   "execution_count": null,
   "metadata": {
    "colab": {
     "base_uri": "https://localhost:8080/",
     "height": 34
    },
    "id": "FvAqyMW-eHt3",
    "outputId": "5c96f78d-5596-4240-fe56-79ba9cdc90e7"
   },
   "outputs": [
    {
     "name": "stdout",
     "output_type": "stream",
     "text": [
      "12.158116491679184\n"
     ]
    }
   ],
   "source": [
    "#an dot dot\n",
    "\n",
    "i=0.06\n",
    "n=20\n",
    "v=(1/(1+i))\n",
    "d=(i/(1+i))\n",
    "\n",
    "res=(1-v**n)/d\n",
    "print(res)"
   ]
  },
  {
   "cell_type": "code",
   "execution_count": null,
   "metadata": {
    "colab": {
     "base_uri": "https://localhost:8080/"
    },
    "id": "qvKnn6PEeSu8",
    "outputId": "ab3ac13d-adc2-40c7-d8d7-c7b13f525ff8"
   },
   "outputs": [
    {
     "name": "stdout",
     "output_type": "stream",
     "text": [
      "18.12647990994492\n"
     ]
    }
   ],
   "source": [
    "#sn dot dot\n",
    "\n",
    "i=0.062\n",
    "n=12\n",
    "\n",
    "d=(i/(1+i))\n",
    "t1=(1+i)**n\n",
    "\n",
    "\n",
    "res=(t1-1)/d\n",
    "\n",
    "print(res)"
   ]
  },
  {
   "cell_type": "code",
   "execution_count": null,
   "metadata": {
    "colab": {
     "base_uri": "https://localhost:8080/"
    },
    "id": "QPo4oM28h6-O",
    "outputId": "13488057-8b28-4b8d-8ba4-378a8da7407b"
   },
   "outputs": [
    {
     "name": "stdout",
     "output_type": "stream",
     "text": [
      "707.6440320349844\n"
     ]
    }
   ],
   "source": [
    "#IS\n",
    "i=0.062\n",
    "n=13\n",
    "\n",
    "d=(i/(1+i))\n",
    "t1=(1+i)**n\n",
    "\n",
    "\n",
    "s_res=(t1-1)/d\n",
    "res=(s_res-n)/i\n",
    "\n",
    "print(6*res)"
   ]
  },
  {
   "cell_type": "code",
   "execution_count": null,
   "metadata": {
    "colab": {
     "base_uri": "https://localhost:8080/"
    },
    "id": "MhHp8aU3KRHF",
    "outputId": "dfa3954b-1c9b-4c2e-8343-9098c46fff5f"
   },
   "outputs": [
    {
     "name": "stdout",
     "output_type": "stream",
     "text": [
      "33.05568828707713\n"
     ]
    }
   ],
   "source": [
    "#It\n",
    "i=0.077/12\n",
    "t=44\n",
    "n=60\n",
    "K=320.8300201\n",
    "#\n",
    "v=(1/(1+i))\n",
    "\n",
    "It=K*(1-(v**(n-t+1)))\n",
    "\n",
    "#result\n",
    "print(It)"
   ]
  },
  {
   "cell_type": "code",
   "execution_count": null,
   "metadata": {
    "colab": {
     "base_uri": "https://localhost:8080/"
    },
    "id": "XJnhczS0Ks-p",
    "outputId": "69335af7-979e-450a-fc09-98598d3e770f"
   },
   "outputs": [
    {
     "name": "stdout",
     "output_type": "stream",
     "text": [
      "1248.1919950096856\n"
     ]
    }
   ],
   "source": [
    "#Pr\n",
    "K=1400\n",
    "i=0.039\n",
    "n=24\n",
    "t=22\n",
    "#\n",
    "v=(1/(1+i))\n",
    "Pr=K*(v**(n-t+1))\n",
    "##\n",
    "print(Pr)"
   ]
  },
  {
   "cell_type": "code",
   "execution_count": null,
   "metadata": {
    "colab": {
     "base_uri": "https://localhost:8080/"
    },
    "id": "p7pBu-muojU2",
    "outputId": "5b779a91-85ee-484c-f084-69fc70b7bc7c"
   },
   "outputs": [
    {
     "name": "stdout",
     "output_type": "stream",
     "text": [
      "5842.792519527278\n"
     ]
    }
   ],
   "source": [
    "#OB\n",
    "\n",
    "i=0.088\n",
    "n=8\n",
    "t=5\n",
    "k=2300\n",
    "\n",
    "v=(1/(1+i))\n",
    "\n",
    "res=k*(1-v**(n-t))/i\n",
    "\n",
    "print(res)\n"
   ]
  }
 ],
 "metadata": {
  "colab": {
   "collapsed_sections": [],
   "name": "Basic_1.ipynb",
   "provenance": []
  },
  "kernelspec": {
   "display_name": "Python 3",
   "language": "python",
   "name": "python3"
  },
  "language_info": {
   "codemirror_mode": {
    "name": "ipython",
    "version": 3
   },
   "file_extension": ".py",
   "mimetype": "text/x-python",
   "name": "python",
   "nbconvert_exporter": "python",
   "pygments_lexer": "ipython3",
   "version": "3.6.8"
  }
 },
 "nbformat": 4,
 "nbformat_minor": 4
}
