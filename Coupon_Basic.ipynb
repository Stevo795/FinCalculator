{
 "cells": [
  {
   "cell_type": "code",
   "execution_count": null,
   "metadata": {
    "id": "56QEFkra-nJM"
   },
   "outputs": [],
   "source": [
    "#Coupon F!=C\n",
    "C=1000\n",
    "F=1000\n",
    "r=0.08/2 #coupon rate per coupon period\n",
    "j=0.07/2 #yield rate per coupon perion\n",
    "n=8\n",
    "\n",
    "Vnj=(1/(1+j))**n\n",
    "anj=find_an(n,j)\n",
    "P=C*Vnj + F*r*anj\n",
    "print(P)"
   ]
  },
  {
   "cell_type": "code",
   "execution_count": 26,
   "metadata": {
    "colab": {
     "base_uri": "https://localhost:8080/"
    },
    "id": "7a9i-5ET-tF9",
    "outputId": "7e877ab6-50d7-46e4-e202-40c4ac7cabb0"
   },
   "outputs": [
    {
     "name": "stdout",
     "output_type": "stream",
     "text": [
      "the result of n 10 j0.033: 8.401077188874586\n",
      "1168.0215437774916\n"
     ]
    }
   ],
   "source": [
    "#Coupon F=c  also n-t\n",
    "F=1000\n",
    "r=0.053 #coupon rate #i(2)\n",
    "j=0.066/2 #yield rate per coupon perion\n",
    "n=10\n",
    "\n",
    "P=F+F*(r-j)*find_an(n,j)\n",
    "print(P)"
   ]
  },
  {
   "cell_type": "code",
   "execution_count": 27,
   "metadata": {
    "colab": {
     "base_uri": "https://localhost:8080/"
    },
    "id": "3kn3hyT5Ng6M",
    "outputId": "2c36ac44-9e3e-4e13-d28f-d6940e26141e"
   },
   "outputs": [
    {
     "data": {
      "text/plain": [
       "46.72086175109967"
      ]
     },
     "execution_count": 27,
     "metadata": {
      "tags": []
     },
     "output_type": "execute_result"
    }
   ],
   "source": [
    "1168.0215437774916*0.04"
   ]
  },
  {
   "cell_type": "code",
   "execution_count": 22,
   "metadata": {
    "id": "OLRE5I4TMTJU"
   },
   "outputs": [],
   "source": [
    "def find_an(n,j):\n",
    "  i=j\n",
    "  v=(1/(1+i))\n",
    "  res=(1-v**n)/i\n",
    "\n",
    "  print(f\"the result of n {n} j{j}: {res}\")\n",
    "  return res\n"
   ]
  },
  {
   "cell_type": "code",
   "execution_count": null,
   "metadata": {
    "id": "F7Yv3ht0-yG9"
   },
   "outputs": [],
   "source": [
    "#another approach -BOND SALESMAN's Formual\n",
    "F=1000 #face value\n",
    "C=1000 #redemption value\n",
    "r=0.05/2 #coupon rate\n",
    "P=862.352 #Purchase value\n",
    "n=24 #period\n",
    "\n",
    "top=n*F*r + C - P\n",
    "bottom1 = n*P\n",
    "bottom2 = n*(P+C) / 2\n",
    "\n",
    "res1=top/bottom1\n",
    "res2 = top / bottom2\n",
    "\n",
    "print(f\"i(2)/2 <- rs1(np):{res1}, res2: {res2}\")"
   ]
  },
  {
   "cell_type": "code",
   "execution_count": 24,
   "metadata": {
    "colab": {
     "base_uri": "https://localhost:8080/"
    },
    "id": "mBgvWTOL-1_d",
    "outputId": "0cd584af-f4fe-4c36-cb37-86178e974c0f"
   },
   "outputs": [
    {
     "name": "stdout",
     "output_type": "stream",
     "text": [
      "2354.7855139260582\n"
     ]
    }
   ],
   "source": [
    "#price between dates\n",
    "# F=1000\n",
    "r=0.09/2 #coupon rate #i(2)\n",
    "j=0.069/2 #yield rate per coupon perion\n",
    "t=152.5/183 #num of days since last coupon paid / 183\n",
    "\n",
    "P0=2289.1589161934535\n",
    "\n",
    "# P1=1\n",
    "# v_1_minus_t = (1/(1+j))**(1-t)\n",
    "# Pt=(P1 + F*r)*v_1_minus_t\n",
    "\n",
    "Pt= P0*((1+j)**t)\n",
    "print(Pt)"
   ]
  },
  {
   "cell_type": "code",
   "execution_count": null,
   "metadata": {
    "id": "57thcjBP-6fl"
   },
   "outputs": [],
   "source": [
    "#market price of a bond\n",
    "#price between dates\n",
    "F=1000\n",
    "r=0.1/2 #coupon rate #i(2)\n",
    "j=0.05/2 #yield rate per coupon perion\n",
    "t=44/183 #num of days since last coupon paid / 183\n",
    "\n",
    "P0=1389.73\n",
    "\n",
    "# P1=1\n",
    "# v_1_minus_t = (1/(1+j))**(1-t)\n",
    "# Pt=(P1 + F*r)*v_1_minus_t\n",
    "\n",
    "Pt= P0*((1+j)**t)\n",
    "\n",
    "P=Pt-t*F*r\n",
    "\n",
    "print(P)\n"
   ]
  },
  {
   "cell_type": "code",
   "execution_count": null,
   "metadata": {
    "id": "Q3vsVu0P-8ff"
   },
   "outputs": [],
   "source": [
    "#Purchase price at t+1\n",
    "Pt=1\n",
    "j=1\n",
    "r=1\n",
    "\n",
    "Pt_plus_1=Pt*(1+j) - F*r\n",
    "print(Pt_plus_1)"
   ]
  }
 ],
 "metadata": {
  "colab": {
   "name": "Coupon Basic.ipynb",
   "provenance": []
  },
  "kernelspec": {
   "display_name": "Python 3",
   "language": "python",
   "name": "python3"
  },
  "language_info": {
   "codemirror_mode": {
    "name": "ipython",
    "version": 3
   },
   "file_extension": ".py",
   "mimetype": "text/x-python",
   "name": "python",
   "nbconvert_exporter": "python",
   "pygments_lexer": "ipython3",
   "version": "3.6.8"
  }
 },
 "nbformat": 4,
 "nbformat_minor": 4
}
